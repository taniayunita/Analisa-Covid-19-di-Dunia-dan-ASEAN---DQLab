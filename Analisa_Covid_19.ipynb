{
  "nbformat": 4,
  "nbformat_minor": 0,
  "metadata": {
    "colab": {
      "name": "Analisa Covid-19.ipynb",
      "provenance": [],
      "collapsed_sections": []
    },
    "kernelspec": {
      "name": "python3",
      "display_name": "Python 3"
    }
  },
  "cells": [
    {
      "cell_type": "code",
      "metadata": {
        "id": "gS4fFDx-gRce"
      },
      "source": [
        "#Import library yang dibutuhkan\n",
        "import json\n",
        "import numpy as np\n",
        "import pandas as pd\n",
        "import requests"
      ],
      "execution_count": 1,
      "outputs": []
    },
    {
      "cell_type": "markdown",
      "metadata": {
        "id": "eUyfCRGTfnM1"
      },
      "source": [
        "**Membuat fungsi untuk input url**"
      ]
    },
    {
      "cell_type": "code",
      "metadata": {
        "id": "_6C3JIj9g1n6",
        "outputId": "13579c6f-f92b-4609-d215-d06befd88f06",
        "colab": {
          "base_uri": "https://localhost:8080/"
        }
      },
      "source": [
        "#Membuat fungsi untuk input url\n",
        "def get_json(api_url):\n",
        "  response = requests.get(api_url)\n",
        "  if response.status_code == 200:\n",
        "    return json.loads(response.content.decode('utf-8'))\n",
        "  else :\n",
        "    return None\n",
        "\n",
        "#memanggil API Covid-19\n",
        "record_date = '2020-08-17'\n",
        "covid_url = 'https://covid19-api.org/api/status?date='+record_date\n",
        "df_covid_worldwide = pd.io.json.json_normalize(get_json(covid_url))\n",
        "print(df_covid_worldwide.head())"
      ],
      "execution_count": 2,
      "outputs": [
        {
          "output_type": "stream",
          "text": [
            "  country          last_update    cases  deaths  recovered\n",
            "0      US  2020-08-16T23:27:50  5401167  170019    1833067\n",
            "1      BR  2020-08-16T23:27:50  3340197  107852    2655017\n",
            "2      IN  2020-08-16T23:27:50  2589682   49980    1862258\n",
            "3      RU  2020-08-16T23:27:50   920719   15653     731444\n",
            "4      ZA  2020-08-16T23:27:50   587345   11839     472377\n"
          ],
          "name": "stdout"
        },
        {
          "output_type": "stream",
          "text": [
            "/usr/local/lib/python3.6/dist-packages/ipykernel_launcher.py:12: FutureWarning: pandas.io.json.json_normalize is deprecated, use pandas.json_normalize instead\n",
            "  if sys.path[0] == '':\n"
          ],
          "name": "stderr"
        }
      ]
    },
    {
      "cell_type": "markdown",
      "metadata": {
        "id": "xHgbTZucf9I3"
      },
      "source": [
        "**Mengubah Format Date**"
      ]
    },
    {
      "cell_type": "code",
      "metadata": {
        "id": "deXjz6_YlvGi",
        "outputId": "44970e9c-1aad-4755-c24f-2e98e3faf3f9",
        "colab": {
          "base_uri": "https://localhost:8080/"
        }
      },
      "source": [
        "#Merubah Format date\n",
        "df_covid_worldwide['last_update'] = pd.to_datetime(df_covid_worldwide['last_update'], format= '%Y-%m-%d %H:%M:%S')\n",
        "df_covid_worldwide['last_update'] = df_covid_worldwide['last_update'].apply(lambda x : x.date())\n",
        "print(df_covid_worldwide.head())"
      ],
      "execution_count": 3,
      "outputs": [
        {
          "output_type": "stream",
          "text": [
            "  country last_update    cases  deaths  recovered\n",
            "0      US  2020-08-16  5401167  170019    1833067\n",
            "1      BR  2020-08-16  3340197  107852    2655017\n",
            "2      IN  2020-08-16  2589682   49980    1862258\n",
            "3      RU  2020-08-16   920719   15653     731444\n",
            "4      ZA  2020-08-16   587345   11839     472377\n"
          ],
          "name": "stdout"
        }
      ]
    },
    {
      "cell_type": "markdown",
      "metadata": {
        "id": "EVlaMPcCgF07"
      },
      "source": [
        "** Mengambil Data Countries**"
      ]
    },
    {
      "cell_type": "code",
      "metadata": {
        "id": "DII7GQf8ouDH",
        "outputId": "a4f40835-e9cb-44ff-e05c-6f914695b78e",
        "colab": {
          "base_uri": "https://localhost:8080/"
        }
      },
      "source": [
        "#Mengambil Data Countries\n",
        "countries_url = 'https://covid19-api.org/api/countries'\n",
        "df_countries = pd.io.json.json_normalize(get_json(countries_url))\n",
        "df_countries = df_countries.rename(columns={'alpha2':'country'})[['name', 'country']]\n",
        "print(df_countries.head())"
      ],
      "execution_count": 4,
      "outputs": [
        {
          "output_type": "stream",
          "text": [
            "          name country\n",
            "0  Afghanistan      AF\n",
            "1      Albania      AL\n",
            "2      Algeria      DZ\n",
            "3      Andorra      AD\n",
            "4       Angola      AO\n"
          ],
          "name": "stdout"
        },
        {
          "output_type": "stream",
          "text": [
            "/usr/local/lib/python3.6/dist-packages/ipykernel_launcher.py:3: FutureWarning: pandas.io.json.json_normalize is deprecated, use pandas.json_normalize instead\n",
            "  This is separate from the ipykernel package so we can avoid doing imports until\n"
          ],
          "name": "stderr"
        }
      ]
    },
    {
      "cell_type": "markdown",
      "metadata": {
        "id": "gw04FAE_gNK1"
      },
      "source": [
        "**Merge Data Covid-19 dan Countries**"
      ]
    },
    {
      "cell_type": "code",
      "metadata": {
        "id": "lzxE4IVzsg6I",
        "outputId": "4fb6e0c8-4711-4d29-b0fd-42d7ca0e62b8",
        "colab": {
          "base_uri": "https://localhost:8080/"
        }
      },
      "source": [
        "#Merge Covid19 Data dan Countries\n",
        "df_covid_denormalized = pd.merge(df_covid_worldwide, df_countries, on='country')\n",
        "print(df_covid_denormalized)"
      ],
      "execution_count": 5,
      "outputs": [
        {
          "output_type": "stream",
          "text": [
            "    country last_update    cases  deaths  recovered                      name\n",
            "0        US  2020-08-16  5401167  170019    1833067  United States of America\n",
            "1        BR  2020-08-16  3340197  107852    2655017                    Brazil\n",
            "2        IN  2020-08-16  2589682   49980    1862258                     India\n",
            "3        RU  2020-08-16   920719   15653     731444        Russian Federation\n",
            "4        ZA  2020-08-16   587345   11839     472377              South Africa\n",
            "..      ...         ...      ...     ...        ...                       ...\n",
            "201      GG  2020-03-17        0       0          0                  Guernsey\n",
            "202      GL  2020-03-19        0       0          0                 Greenland\n",
            "203      GU  2020-03-18        0       0          0                      Guam\n",
            "204      JE  2020-03-17        0       0          0                    Jersey\n",
            "205      PR  2020-03-17        0       0          0               Puerto Rico\n",
            "\n",
            "[206 rows x 6 columns]\n"
          ],
          "name": "stdout"
        }
      ]
    },
    {
      "cell_type": "markdown",
      "metadata": {
        "id": "Ftzh5HoHgTKo"
      },
      "source": [
        "**Menghitung Fatality Ratio**"
      ]
    },
    {
      "cell_type": "code",
      "metadata": {
        "id": "e4PRz8TMvBtZ",
        "outputId": "1a682d39-7784-4cba-bdcb-3af627054007",
        "colab": {
          "base_uri": "https://localhost:8080/",
          "height": 419
        }
      },
      "source": [
        "#Menghitung Fatality Ratio\n",
        "#membuat kolom tambahan berupa fatality ratio\n",
        "df_covid_denormalized['fatality_ratio'] = df_covid_denormalized['deaths']/df_covid_denormalized['cases']\n",
        "df_covid_denormalized"
      ],
      "execution_count": 6,
      "outputs": [
        {
          "output_type": "execute_result",
          "data": {
            "text/html": [
              "<div>\n",
              "<style scoped>\n",
              "    .dataframe tbody tr th:only-of-type {\n",
              "        vertical-align: middle;\n",
              "    }\n",
              "\n",
              "    .dataframe tbody tr th {\n",
              "        vertical-align: top;\n",
              "    }\n",
              "\n",
              "    .dataframe thead th {\n",
              "        text-align: right;\n",
              "    }\n",
              "</style>\n",
              "<table border=\"1\" class=\"dataframe\">\n",
              "  <thead>\n",
              "    <tr style=\"text-align: right;\">\n",
              "      <th></th>\n",
              "      <th>country</th>\n",
              "      <th>last_update</th>\n",
              "      <th>cases</th>\n",
              "      <th>deaths</th>\n",
              "      <th>recovered</th>\n",
              "      <th>name</th>\n",
              "      <th>fatality_ratio</th>\n",
              "    </tr>\n",
              "  </thead>\n",
              "  <tbody>\n",
              "    <tr>\n",
              "      <th>0</th>\n",
              "      <td>US</td>\n",
              "      <td>2020-08-16</td>\n",
              "      <td>5401167</td>\n",
              "      <td>170019</td>\n",
              "      <td>1833067</td>\n",
              "      <td>United States of America</td>\n",
              "      <td>0.031478</td>\n",
              "    </tr>\n",
              "    <tr>\n",
              "      <th>1</th>\n",
              "      <td>BR</td>\n",
              "      <td>2020-08-16</td>\n",
              "      <td>3340197</td>\n",
              "      <td>107852</td>\n",
              "      <td>2655017</td>\n",
              "      <td>Brazil</td>\n",
              "      <td>0.032289</td>\n",
              "    </tr>\n",
              "    <tr>\n",
              "      <th>2</th>\n",
              "      <td>IN</td>\n",
              "      <td>2020-08-16</td>\n",
              "      <td>2589682</td>\n",
              "      <td>49980</td>\n",
              "      <td>1862258</td>\n",
              "      <td>India</td>\n",
              "      <td>0.019300</td>\n",
              "    </tr>\n",
              "    <tr>\n",
              "      <th>3</th>\n",
              "      <td>RU</td>\n",
              "      <td>2020-08-16</td>\n",
              "      <td>920719</td>\n",
              "      <td>15653</td>\n",
              "      <td>731444</td>\n",
              "      <td>Russian Federation</td>\n",
              "      <td>0.017001</td>\n",
              "    </tr>\n",
              "    <tr>\n",
              "      <th>4</th>\n",
              "      <td>ZA</td>\n",
              "      <td>2020-08-16</td>\n",
              "      <td>587345</td>\n",
              "      <td>11839</td>\n",
              "      <td>472377</td>\n",
              "      <td>South Africa</td>\n",
              "      <td>0.020157</td>\n",
              "    </tr>\n",
              "    <tr>\n",
              "      <th>...</th>\n",
              "      <td>...</td>\n",
              "      <td>...</td>\n",
              "      <td>...</td>\n",
              "      <td>...</td>\n",
              "      <td>...</td>\n",
              "      <td>...</td>\n",
              "      <td>...</td>\n",
              "    </tr>\n",
              "    <tr>\n",
              "      <th>201</th>\n",
              "      <td>GG</td>\n",
              "      <td>2020-03-17</td>\n",
              "      <td>0</td>\n",
              "      <td>0</td>\n",
              "      <td>0</td>\n",
              "      <td>Guernsey</td>\n",
              "      <td>NaN</td>\n",
              "    </tr>\n",
              "    <tr>\n",
              "      <th>202</th>\n",
              "      <td>GL</td>\n",
              "      <td>2020-03-19</td>\n",
              "      <td>0</td>\n",
              "      <td>0</td>\n",
              "      <td>0</td>\n",
              "      <td>Greenland</td>\n",
              "      <td>NaN</td>\n",
              "    </tr>\n",
              "    <tr>\n",
              "      <th>203</th>\n",
              "      <td>GU</td>\n",
              "      <td>2020-03-18</td>\n",
              "      <td>0</td>\n",
              "      <td>0</td>\n",
              "      <td>0</td>\n",
              "      <td>Guam</td>\n",
              "      <td>NaN</td>\n",
              "    </tr>\n",
              "    <tr>\n",
              "      <th>204</th>\n",
              "      <td>JE</td>\n",
              "      <td>2020-03-17</td>\n",
              "      <td>0</td>\n",
              "      <td>0</td>\n",
              "      <td>0</td>\n",
              "      <td>Jersey</td>\n",
              "      <td>NaN</td>\n",
              "    </tr>\n",
              "    <tr>\n",
              "      <th>205</th>\n",
              "      <td>PR</td>\n",
              "      <td>2020-03-17</td>\n",
              "      <td>0</td>\n",
              "      <td>0</td>\n",
              "      <td>0</td>\n",
              "      <td>Puerto Rico</td>\n",
              "      <td>NaN</td>\n",
              "    </tr>\n",
              "  </tbody>\n",
              "</table>\n",
              "<p>206 rows × 7 columns</p>\n",
              "</div>"
            ],
            "text/plain": [
              "    country last_update  ...                      name  fatality_ratio\n",
              "0        US  2020-08-16  ...  United States of America        0.031478\n",
              "1        BR  2020-08-16  ...                    Brazil        0.032289\n",
              "2        IN  2020-08-16  ...                     India        0.019300\n",
              "3        RU  2020-08-16  ...        Russian Federation        0.017001\n",
              "4        ZA  2020-08-16  ...              South Africa        0.020157\n",
              "..      ...         ...  ...                       ...             ...\n",
              "201      GG  2020-03-17  ...                  Guernsey             NaN\n",
              "202      GL  2020-03-19  ...                 Greenland             NaN\n",
              "203      GU  2020-03-18  ...                      Guam             NaN\n",
              "204      JE  2020-03-17  ...                    Jersey             NaN\n",
              "205      PR  2020-03-17  ...               Puerto Rico             NaN\n",
              "\n",
              "[206 rows x 7 columns]"
            ]
          },
          "metadata": {
            "tags": []
          },
          "execution_count": 6
        }
      ]
    },
    {
      "cell_type": "code",
      "metadata": {
        "id": "fQiCo4SnwDtt",
        "outputId": "6da97645-db2b-401c-f850-8b93bf9e22ab",
        "colab": {
          "base_uri": "https://localhost:8080/",
          "height": 669
        }
      },
      "source": [
        "#Negara-negara dengan Fatality Ratio Tertinggi\n",
        "df_top_20_fatality_rate = df_covid_denormalized.sort_values(by='fatality_ratio', ascending=False).head(20)\n",
        "df_top_20_fatality_rate"
      ],
      "execution_count": 7,
      "outputs": [
        {
          "output_type": "execute_result",
          "data": {
            "text/html": [
              "<div>\n",
              "<style scoped>\n",
              "    .dataframe tbody tr th:only-of-type {\n",
              "        vertical-align: middle;\n",
              "    }\n",
              "\n",
              "    .dataframe tbody tr th {\n",
              "        vertical-align: top;\n",
              "    }\n",
              "\n",
              "    .dataframe thead th {\n",
              "        text-align: right;\n",
              "    }\n",
              "</style>\n",
              "<table border=\"1\" class=\"dataframe\">\n",
              "  <thead>\n",
              "    <tr style=\"text-align: right;\">\n",
              "      <th></th>\n",
              "      <th>country</th>\n",
              "      <th>last_update</th>\n",
              "      <th>cases</th>\n",
              "      <th>deaths</th>\n",
              "      <th>recovered</th>\n",
              "      <th>name</th>\n",
              "      <th>fatality_ratio</th>\n",
              "    </tr>\n",
              "  </thead>\n",
              "  <tbody>\n",
              "    <tr>\n",
              "      <th>134</th>\n",
              "      <td>YE</td>\n",
              "      <td>2020-08-16</td>\n",
              "      <td>1869</td>\n",
              "      <td>530</td>\n",
              "      <td>1013</td>\n",
              "      <td>Yemen</td>\n",
              "      <td>0.283574</td>\n",
              "    </tr>\n",
              "    <tr>\n",
              "      <th>11</th>\n",
              "      <td>GB</td>\n",
              "      <td>2020-08-16</td>\n",
              "      <td>320343</td>\n",
              "      <td>46791</td>\n",
              "      <td>1486</td>\n",
              "      <td>United Kingdom of Great Britain and Northern I...</td>\n",
              "      <td>0.146065</td>\n",
              "    </tr>\n",
              "    <tr>\n",
              "      <th>16</th>\n",
              "      <td>IT</td>\n",
              "      <td>2020-08-16</td>\n",
              "      <td>253915</td>\n",
              "      <td>35396</td>\n",
              "      <td>203786</td>\n",
              "      <td>Italy</td>\n",
              "      <td>0.139401</td>\n",
              "    </tr>\n",
              "    <tr>\n",
              "      <th>36</th>\n",
              "      <td>BE</td>\n",
              "      <td>2020-08-16</td>\n",
              "      <td>77869</td>\n",
              "      <td>9935</td>\n",
              "      <td>17981</td>\n",
              "      <td>Belgium</td>\n",
              "      <td>0.127586</td>\n",
              "    </tr>\n",
              "    <tr>\n",
              "      <th>105</th>\n",
              "      <td>HU</td>\n",
              "      <td>2020-08-16</td>\n",
              "      <td>4916</td>\n",
              "      <td>608</td>\n",
              "      <td>3623</td>\n",
              "      <td>Hungary</td>\n",
              "      <td>0.123678</td>\n",
              "    </tr>\n",
              "    <tr>\n",
              "      <th>17</th>\n",
              "      <td>FR</td>\n",
              "      <td>2020-08-16</td>\n",
              "      <td>252965</td>\n",
              "      <td>30410</td>\n",
              "      <td>83993</td>\n",
              "      <td>France</td>\n",
              "      <td>0.120214</td>\n",
              "    </tr>\n",
              "    <tr>\n",
              "      <th>6</th>\n",
              "      <td>MX</td>\n",
              "      <td>2020-08-16</td>\n",
              "      <td>517714</td>\n",
              "      <td>56543</td>\n",
              "      <td>418164</td>\n",
              "      <td>Mexico</td>\n",
              "      <td>0.109217</td>\n",
              "    </tr>\n",
              "    <tr>\n",
              "      <th>191</th>\n",
              "      <td>EH</td>\n",
              "      <td>2020-08-16</td>\n",
              "      <td>10</td>\n",
              "      <td>1</td>\n",
              "      <td>8</td>\n",
              "      <td>Western Sahara</td>\n",
              "      <td>0.100000</td>\n",
              "    </tr>\n",
              "    <tr>\n",
              "      <th>40</th>\n",
              "      <td>NL</td>\n",
              "      <td>2020-08-16</td>\n",
              "      <td>64451</td>\n",
              "      <td>6194</td>\n",
              "      <td>345</td>\n",
              "      <td>Netherlands</td>\n",
              "      <td>0.096104</td>\n",
              "    </tr>\n",
              "    <tr>\n",
              "      <th>10</th>\n",
              "      <td>ES</td>\n",
              "      <td>2020-08-16</td>\n",
              "      <td>342813</td>\n",
              "      <td>28617</td>\n",
              "      <td>150376</td>\n",
              "      <td>Spain</td>\n",
              "      <td>0.083477</td>\n",
              "    </tr>\n",
              "    <tr>\n",
              "      <th>153</th>\n",
              "      <td>TD</td>\n",
              "      <td>2020-08-16</td>\n",
              "      <td>956</td>\n",
              "      <td>76</td>\n",
              "      <td>865</td>\n",
              "      <td>Chad</td>\n",
              "      <td>0.079498</td>\n",
              "    </tr>\n",
              "    <tr>\n",
              "      <th>23</th>\n",
              "      <td>CA</td>\n",
              "      <td>2020-08-16</td>\n",
              "      <td>124004</td>\n",
              "      <td>9074</td>\n",
              "      <td>110202</td>\n",
              "      <td>Canada</td>\n",
              "      <td>0.073175</td>\n",
              "    </tr>\n",
              "    <tr>\n",
              "      <th>33</th>\n",
              "      <td>SE</td>\n",
              "      <td>2020-08-16</td>\n",
              "      <td>84294</td>\n",
              "      <td>5783</td>\n",
              "      <td>0</td>\n",
              "      <td>Sweden</td>\n",
              "      <td>0.068605</td>\n",
              "    </tr>\n",
              "    <tr>\n",
              "      <th>145</th>\n",
              "      <td>LR</td>\n",
              "      <td>2020-08-16</td>\n",
              "      <td>1257</td>\n",
              "      <td>82</td>\n",
              "      <td>788</td>\n",
              "      <td>Liberia</td>\n",
              "      <td>0.065235</td>\n",
              "    </tr>\n",
              "    <tr>\n",
              "      <th>65</th>\n",
              "      <td>IE</td>\n",
              "      <td>2020-08-16</td>\n",
              "      <td>27257</td>\n",
              "      <td>1774</td>\n",
              "      <td>23364</td>\n",
              "      <td>Ireland</td>\n",
              "      <td>0.065084</td>\n",
              "    </tr>\n",
              "    <tr>\n",
              "      <th>80</th>\n",
              "      <td>SD</td>\n",
              "      <td>2020-08-16</td>\n",
              "      <td>12314</td>\n",
              "      <td>798</td>\n",
              "      <td>6350</td>\n",
              "      <td>Sudan</td>\n",
              "      <td>0.064804</td>\n",
              "    </tr>\n",
              "    <tr>\n",
              "      <th>157</th>\n",
              "      <td>SM</td>\n",
              "      <td>2020-08-16</td>\n",
              "      <td>699</td>\n",
              "      <td>42</td>\n",
              "      <td>657</td>\n",
              "      <td>San Marino</td>\n",
              "      <td>0.060086</td>\n",
              "    </tr>\n",
              "    <tr>\n",
              "      <th>26</th>\n",
              "      <td>EC</td>\n",
              "      <td>2020-08-16</td>\n",
              "      <td>101542</td>\n",
              "      <td>6070</td>\n",
              "      <td>87022</td>\n",
              "      <td>Ecuador</td>\n",
              "      <td>0.059778</td>\n",
              "    </tr>\n",
              "    <tr>\n",
              "      <th>148</th>\n",
              "      <td>NE</td>\n",
              "      <td>2020-08-16</td>\n",
              "      <td>1167</td>\n",
              "      <td>69</td>\n",
              "      <td>1078</td>\n",
              "      <td>Niger</td>\n",
              "      <td>0.059126</td>\n",
              "    </tr>\n",
              "    <tr>\n",
              "      <th>9</th>\n",
              "      <td>IR</td>\n",
              "      <td>2020-08-16</td>\n",
              "      <td>343203</td>\n",
              "      <td>19639</td>\n",
              "      <td>297486</td>\n",
              "      <td>Islamic Republic of Iran</td>\n",
              "      <td>0.057223</td>\n",
              "    </tr>\n",
              "  </tbody>\n",
              "</table>\n",
              "</div>"
            ],
            "text/plain": [
              "    country  ... fatality_ratio\n",
              "134      YE  ...       0.283574\n",
              "11       GB  ...       0.146065\n",
              "16       IT  ...       0.139401\n",
              "36       BE  ...       0.127586\n",
              "105      HU  ...       0.123678\n",
              "17       FR  ...       0.120214\n",
              "6        MX  ...       0.109217\n",
              "191      EH  ...       0.100000\n",
              "40       NL  ...       0.096104\n",
              "10       ES  ...       0.083477\n",
              "153      TD  ...       0.079498\n",
              "23       CA  ...       0.073175\n",
              "33       SE  ...       0.068605\n",
              "145      LR  ...       0.065235\n",
              "65       IE  ...       0.065084\n",
              "80       SD  ...       0.064804\n",
              "157      SM  ...       0.060086\n",
              "26       EC  ...       0.059778\n",
              "148      NE  ...       0.059126\n",
              "9        IR  ...       0.057223\n",
              "\n",
              "[20 rows x 7 columns]"
            ]
          },
          "metadata": {
            "tags": []
          },
          "execution_count": 7
        }
      ]
    },
    {
      "cell_type": "markdown",
      "metadata": {
        "id": "0h2NpGn2gaIX"
      },
      "source": [
        "**Membuat Visualisasi Data**"
      ]
    },
    {
      "cell_type": "code",
      "metadata": {
        "id": "itAy5O77xFGb"
      },
      "source": [
        "#Import Library Visualisasi\n",
        "import matplotlib.pyplot as plt\n"
      ],
      "execution_count": 8,
      "outputs": []
    },
    {
      "cell_type": "code",
      "metadata": {
        "id": "66tD9KvJxT_C",
        "outputId": "aafb5bad-8ae8-44d7-a55d-4ad4b3c8ceec",
        "colab": {
          "base_uri": "https://localhost:8080/",
          "height": 518
        }
      },
      "source": [
        "#Visualisasi Negara dengan Fatality Ratio Tertingi\n",
        "plt.figure(figsize=(20,8))\n",
        "x = df_top_20_fatality_rate['country']\n",
        "y = df_top_20_fatality_rate['fatality_ratio']\n",
        "plt.bar(x,y, color='red')\n",
        "plt.xlabel('Country Name')\n",
        "plt.ylabel('Fatality Rate')\n",
        "plt.title('Top 20 Highest Fatality Rate Countries')\n",
        "plt.xticks(rotation=90)\n",
        "plt.show()"
      ],
      "execution_count": 9,
      "outputs": [
        {
          "output_type": "display_data",
          "data": {
            "image/png": "[encoded data removed]",
            "text/plain": [
              "<Figure size 1440x576 with 1 Axes>"
            ]
          },
          "metadata": {
            "tags": [],
            "needs_background": "light"
          }
        }
      ]
    },
    {
      "cell_type": "code",
      "metadata": {
        "id": "5BhmKm-h0p0s",
        "outputId": "ca59d942-8312-4885-846b-551769f7a081",
        "colab": {
          "base_uri": "https://localhost:8080/"
        }
      },
      "source": [
        "#Menggabungkan Data Frame\n",
        "#Membandingkan kasus indonesia dan negara tetangga\n",
        "countries = ['ID', 'MY', 'SG', 'TH', 'VN']\n",
        "i = 0\n",
        "for country in countries:\n",
        "  covid_timeline_url = 'https://covid19-api.org/api/timeline/'+country\n",
        "  df_covid_timeline = pd.io.json.json_normalize(get_json(covid_timeline_url))\n",
        "  df_covid_timeline['last_update'] = pd.to_datetime(df_covid_timeline['last_update'], format='%Y-%m-%d %H:%M:%S')\n",
        "  df_covid_timeline['last_update'].apply(lambda x : x.date())\n",
        "  if i == 0:\n",
        "      df_covid_timeline_merged = df_covid_timeline\n",
        "  else :\n",
        "      df_covid_timeline_merged = df_covid_timeline.append(df_covid_timeline_merged, ignore_index=True)\n",
        "  i = i+1\n",
        "\n",
        "print(df_covid_timeline_merged.head())\n",
        "\n"
      ],
      "execution_count": 15,
      "outputs": [
        {
          "output_type": "stream",
          "text": [
            "/usr/local/lib/python3.6/dist-packages/ipykernel_launcher.py:7: FutureWarning: pandas.io.json.json_normalize is deprecated, use pandas.json_normalize instead\n",
            "  import sys\n"
          ],
          "name": "stderr"
        },
        {
          "output_type": "stream",
          "text": [
            "  country         last_update  cases  deaths  recovered\n",
            "0      VN 2020-11-11 12:25:37   1226      35       1087\n",
            "1      VN 2020-11-10 23:25:15   1226      35       1087\n",
            "2      VN 2020-11-09 23:25:07   1215      35       1087\n",
            "3      VN 2020-11-08 23:24:56   1213      35       1070\n",
            "4      VN 2020-11-07 23:24:59   1213      35       1070\n"
          ],
          "name": "stdout"
        }
      ]
    },
    {
      "cell_type": "code",
      "metadata": {
        "id": "uwBXSQL6nOjA",
        "outputId": "5738b145-feb2-4345-fb21-20c2d7e6670e",
        "colab": {
          "base_uri": "https://localhost:8080/",
          "height": 419
        }
      },
      "source": [
        "#Merge Data Covid dengan Data Country\n",
        "df_covid_timeline_denormalized = pd.merge(df_covid_timeline_merged, df_countries, on ='country')\n",
        "df_covid_timeline_denormalized"
      ],
      "execution_count": 11,
      "outputs": [
        {
          "output_type": "execute_result",
          "data": {
            "text/html": [
              "<div>\n",
              "<style scoped>\n",
              "    .dataframe tbody tr th:only-of-type {\n",
              "        vertical-align: middle;\n",
              "    }\n",
              "\n",
              "    .dataframe tbody tr th {\n",
              "        vertical-align: top;\n",
              "    }\n",
              "\n",
              "    .dataframe thead th {\n",
              "        text-align: right;\n",
              "    }\n",
              "</style>\n",
              "<table border=\"1\" class=\"dataframe\">\n",
              "  <thead>\n",
              "    <tr style=\"text-align: right;\">\n",
              "      <th></th>\n",
              "      <th>country</th>\n",
              "      <th>last_update</th>\n",
              "      <th>cases</th>\n",
              "      <th>deaths</th>\n",
              "      <th>recovered</th>\n",
              "      <th>name</th>\n",
              "    </tr>\n",
              "  </thead>\n",
              "  <tbody>\n",
              "    <tr>\n",
              "      <th>0</th>\n",
              "      <td>VN</td>\n",
              "      <td>2020-11-11 12:25:37</td>\n",
              "      <td>1226</td>\n",
              "      <td>35</td>\n",
              "      <td>1087</td>\n",
              "      <td>Viet Nam</td>\n",
              "    </tr>\n",
              "    <tr>\n",
              "      <th>1</th>\n",
              "      <td>VN</td>\n",
              "      <td>2020-11-10 23:25:15</td>\n",
              "      <td>1226</td>\n",
              "      <td>35</td>\n",
              "      <td>1087</td>\n",
              "      <td>Viet Nam</td>\n",
              "    </tr>\n",
              "    <tr>\n",
              "      <th>2</th>\n",
              "      <td>VN</td>\n",
              "      <td>2020-11-09 23:25:07</td>\n",
              "      <td>1215</td>\n",
              "      <td>35</td>\n",
              "      <td>1087</td>\n",
              "      <td>Viet Nam</td>\n",
              "    </tr>\n",
              "    <tr>\n",
              "      <th>3</th>\n",
              "      <td>VN</td>\n",
              "      <td>2020-11-08 23:24:56</td>\n",
              "      <td>1213</td>\n",
              "      <td>35</td>\n",
              "      <td>1070</td>\n",
              "      <td>Viet Nam</td>\n",
              "    </tr>\n",
              "    <tr>\n",
              "      <th>4</th>\n",
              "      <td>VN</td>\n",
              "      <td>2020-11-07 23:24:59</td>\n",
              "      <td>1213</td>\n",
              "      <td>35</td>\n",
              "      <td>1070</td>\n",
              "      <td>Viet Nam</td>\n",
              "    </tr>\n",
              "    <tr>\n",
              "      <th>...</th>\n",
              "      <td>...</td>\n",
              "      <td>...</td>\n",
              "      <td>...</td>\n",
              "      <td>...</td>\n",
              "      <td>...</td>\n",
              "      <td>...</td>\n",
              "    </tr>\n",
              "    <tr>\n",
              "      <th>1348</th>\n",
              "      <td>ID</td>\n",
              "      <td>2020-03-10 12:53:02</td>\n",
              "      <td>27</td>\n",
              "      <td>0</td>\n",
              "      <td>2</td>\n",
              "      <td>Indonesia</td>\n",
              "    </tr>\n",
              "    <tr>\n",
              "      <th>1349</th>\n",
              "      <td>ID</td>\n",
              "      <td>2020-03-09 11:33:10</td>\n",
              "      <td>19</td>\n",
              "      <td>0</td>\n",
              "      <td>0</td>\n",
              "      <td>Indonesia</td>\n",
              "    </tr>\n",
              "    <tr>\n",
              "      <th>1350</th>\n",
              "      <td>ID</td>\n",
              "      <td>2020-03-08 10:03:13</td>\n",
              "      <td>6</td>\n",
              "      <td>0</td>\n",
              "      <td>0</td>\n",
              "      <td>Indonesia</td>\n",
              "    </tr>\n",
              "    <tr>\n",
              "      <th>1351</th>\n",
              "      <td>ID</td>\n",
              "      <td>2020-03-06 12:33:03</td>\n",
              "      <td>4</td>\n",
              "      <td>0</td>\n",
              "      <td>0</td>\n",
              "      <td>Indonesia</td>\n",
              "    </tr>\n",
              "    <tr>\n",
              "      <th>1352</th>\n",
              "      <td>ID</td>\n",
              "      <td>2020-03-02 18:03:04</td>\n",
              "      <td>2</td>\n",
              "      <td>0</td>\n",
              "      <td>0</td>\n",
              "      <td>Indonesia</td>\n",
              "    </tr>\n",
              "  </tbody>\n",
              "</table>\n",
              "<p>1353 rows × 6 columns</p>\n",
              "</div>"
            ],
            "text/plain": [
              "     country         last_update  cases  deaths  recovered       name\n",
              "0         VN 2020-11-11 12:25:37   1226      35       1087   Viet Nam\n",
              "1         VN 2020-11-10 23:25:15   1226      35       1087   Viet Nam\n",
              "2         VN 2020-11-09 23:25:07   1215      35       1087   Viet Nam\n",
              "3         VN 2020-11-08 23:24:56   1213      35       1070   Viet Nam\n",
              "4         VN 2020-11-07 23:24:59   1213      35       1070   Viet Nam\n",
              "...      ...                 ...    ...     ...        ...        ...\n",
              "1348      ID 2020-03-10 12:53:02     27       0          2  Indonesia\n",
              "1349      ID 2020-03-09 11:33:10     19       0          0  Indonesia\n",
              "1350      ID 2020-03-08 10:03:13      6       0          0  Indonesia\n",
              "1351      ID 2020-03-06 12:33:03      4       0          0  Indonesia\n",
              "1352      ID 2020-03-02 18:03:04      2       0          0  Indonesia\n",
              "\n",
              "[1353 rows x 6 columns]"
            ]
          },
          "metadata": {
            "tags": []
          },
          "execution_count": 11
        }
      ]
    },
    {
      "cell_type": "code",
      "metadata": {
        "id": "ptHY_DK7oM-_",
        "outputId": "961301f4-f38e-43b9-b384-e6c746785976",
        "colab": {
          "base_uri": "https://localhost:8080/",
          "height": 419
        }
      },
      "source": [
        "#Kasus Covid-19 di ASEAN pada bulan Oktober 2020\n",
        "import datetime\n",
        "df_covid_timeline_denormalized = df_covid_timeline_denormalized[(df_covid_timeline_denormalized['last_update'] >= datetime.datetime(2020, 10, 1))]\n",
        "df_covid_timeline_denormalized"
      ],
      "execution_count": 17,
      "outputs": [
        {
          "output_type": "execute_result",
          "data": {
            "text/html": [
              "<div>\n",
              "<style scoped>\n",
              "    .dataframe tbody tr th:only-of-type {\n",
              "        vertical-align: middle;\n",
              "    }\n",
              "\n",
              "    .dataframe tbody tr th {\n",
              "        vertical-align: top;\n",
              "    }\n",
              "\n",
              "    .dataframe thead th {\n",
              "        text-align: right;\n",
              "    }\n",
              "</style>\n",
              "<table border=\"1\" class=\"dataframe\">\n",
              "  <thead>\n",
              "    <tr style=\"text-align: right;\">\n",
              "      <th></th>\n",
              "      <th>country</th>\n",
              "      <th>last_update</th>\n",
              "      <th>cases</th>\n",
              "      <th>deaths</th>\n",
              "      <th>recovered</th>\n",
              "      <th>name</th>\n",
              "    </tr>\n",
              "  </thead>\n",
              "  <tbody>\n",
              "    <tr>\n",
              "      <th>0</th>\n",
              "      <td>VN</td>\n",
              "      <td>2020-11-11 12:25:37</td>\n",
              "      <td>1226</td>\n",
              "      <td>35</td>\n",
              "      <td>1087</td>\n",
              "      <td>Viet Nam</td>\n",
              "    </tr>\n",
              "    <tr>\n",
              "      <th>1</th>\n",
              "      <td>VN</td>\n",
              "      <td>2020-11-10 23:25:15</td>\n",
              "      <td>1226</td>\n",
              "      <td>35</td>\n",
              "      <td>1087</td>\n",
              "      <td>Viet Nam</td>\n",
              "    </tr>\n",
              "    <tr>\n",
              "      <th>2</th>\n",
              "      <td>VN</td>\n",
              "      <td>2020-11-09 23:25:07</td>\n",
              "      <td>1215</td>\n",
              "      <td>35</td>\n",
              "      <td>1087</td>\n",
              "      <td>Viet Nam</td>\n",
              "    </tr>\n",
              "    <tr>\n",
              "      <th>3</th>\n",
              "      <td>VN</td>\n",
              "      <td>2020-11-08 23:24:56</td>\n",
              "      <td>1213</td>\n",
              "      <td>35</td>\n",
              "      <td>1070</td>\n",
              "      <td>Viet Nam</td>\n",
              "    </tr>\n",
              "    <tr>\n",
              "      <th>4</th>\n",
              "      <td>VN</td>\n",
              "      <td>2020-11-07 23:24:59</td>\n",
              "      <td>1213</td>\n",
              "      <td>35</td>\n",
              "      <td>1070</td>\n",
              "      <td>Viet Nam</td>\n",
              "    </tr>\n",
              "    <tr>\n",
              "      <th>...</th>\n",
              "      <td>...</td>\n",
              "      <td>...</td>\n",
              "      <td>...</td>\n",
              "      <td>...</td>\n",
              "      <td>...</td>\n",
              "      <td>...</td>\n",
              "    </tr>\n",
              "    <tr>\n",
              "      <th>1140</th>\n",
              "      <td>ID</td>\n",
              "      <td>2020-10-05 23:23:35</td>\n",
              "      <td>307120</td>\n",
              "      <td>11253</td>\n",
              "      <td>232593</td>\n",
              "      <td>Indonesia</td>\n",
              "    </tr>\n",
              "    <tr>\n",
              "      <th>1141</th>\n",
              "      <td>ID</td>\n",
              "      <td>2020-10-04 23:23:37</td>\n",
              "      <td>303498</td>\n",
              "      <td>11151</td>\n",
              "      <td>228453</td>\n",
              "      <td>Indonesia</td>\n",
              "    </tr>\n",
              "    <tr>\n",
              "      <th>1142</th>\n",
              "      <td>ID</td>\n",
              "      <td>2020-10-03 23:23:35</td>\n",
              "      <td>299506</td>\n",
              "      <td>11055</td>\n",
              "      <td>225052</td>\n",
              "      <td>Indonesia</td>\n",
              "    </tr>\n",
              "    <tr>\n",
              "      <th>1143</th>\n",
              "      <td>ID</td>\n",
              "      <td>2020-10-02 23:23:30</td>\n",
              "      <td>295499</td>\n",
              "      <td>10972</td>\n",
              "      <td>221340</td>\n",
              "      <td>Indonesia</td>\n",
              "    </tr>\n",
              "    <tr>\n",
              "      <th>1144</th>\n",
              "      <td>ID</td>\n",
              "      <td>2020-10-01 23:23:41</td>\n",
              "      <td>291182</td>\n",
              "      <td>10856</td>\n",
              "      <td>218487</td>\n",
              "      <td>Indonesia</td>\n",
              "    </tr>\n",
              "  </tbody>\n",
              "</table>\n",
              "<p>210 rows × 6 columns</p>\n",
              "</div>"
            ],
            "text/plain": [
              "     country         last_update   cases  deaths  recovered       name\n",
              "0         VN 2020-11-11 12:25:37    1226      35       1087   Viet Nam\n",
              "1         VN 2020-11-10 23:25:15    1226      35       1087   Viet Nam\n",
              "2         VN 2020-11-09 23:25:07    1215      35       1087   Viet Nam\n",
              "3         VN 2020-11-08 23:24:56    1213      35       1070   Viet Nam\n",
              "4         VN 2020-11-07 23:24:59    1213      35       1070   Viet Nam\n",
              "...      ...                 ...     ...     ...        ...        ...\n",
              "1140      ID 2020-10-05 23:23:35  307120   11253     232593  Indonesia\n",
              "1141      ID 2020-10-04 23:23:37  303498   11151     228453  Indonesia\n",
              "1142      ID 2020-10-03 23:23:35  299506   11055     225052  Indonesia\n",
              "1143      ID 2020-10-02 23:23:30  295499   10972     221340  Indonesia\n",
              "1144      ID 2020-10-01 23:23:41  291182   10856     218487  Indonesia\n",
              "\n",
              "[210 rows x 6 columns]"
            ]
          },
          "metadata": {
            "tags": []
          },
          "execution_count": 17
        }
      ]
    },
    {
      "cell_type": "markdown",
      "metadata": {
        "id": "PhsnSlwziKqY"
      },
      "source": [
        "**Visualisasi perbandingan kasus covid-19 antara Indonesia dan Negara Asia lainnya**"
      ]
    },
    {
      "cell_type": "code",
      "metadata": {
        "id": "HZv20QFtiVgs",
        "outputId": "4b4e7fb9-4027-46e5-aa71-7b12a814454c",
        "colab": {
          "base_uri": "https://localhost:8080/",
          "height": 415
        }
      },
      "source": [
        "import matplotlib.pyplot as plt\n",
        "plt.clf()\n",
        "plt.figure(figsize=(10,5))\n",
        "countries = ['ID', 'MY', 'SG', 'TH', 'VN']\n",
        "for country in countries :\n",
        "  country_data = df_covid_timeline_denormalized['country']== country\n",
        "  x = df_covid_timeline_denormalized[country_data]['last_update']\n",
        "  y = df_covid_timeline_denormalized[country_data]['cases']\n",
        "  plt.plot(x, y, label = country)\n",
        "\n",
        "plt.legend()\n",
        "plt.xlabel('Record Date')\n",
        "plt.ylabel('Total Cases')\n",
        "plt.title('ASEAN Covid-19 Cases Comparison')\n",
        "plt.xticks(rotation=90)\n",
        "plt.show()"
      ],
      "execution_count": 23,
      "outputs": [
        {
          "output_type": "display_data",
          "data": {
            "text/plain": [
              "<Figure size 432x288 with 0 Axes>"
            ]
          },
          "metadata": {
            "tags": []
          }
        },
        {
          "output_type": "display_data",
          "data": {
            "image/png": "[encoded data removed]",
            "text/plain": [
              "<Figure size 720x360 with 1 Axes>"
            ]
          },
          "metadata": {
            "tags": [],
            "needs_background": "light"
          }
        }
      ]
    }
  ]
}